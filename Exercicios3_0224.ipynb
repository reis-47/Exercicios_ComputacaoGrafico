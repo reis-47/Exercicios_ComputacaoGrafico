{
  "nbformat": 4,
  "nbformat_minor": 0,
  "metadata": {
    "colab": {
      "provenance": [],
      "authorship_tag": "ABX9TyPGwukeSs5yMpN9FSNzDSVV",
      "include_colab_link": true
    },
    "kernelspec": {
      "name": "python3",
      "display_name": "Python 3"
    },
    "language_info": {
      "name": "python"
    }
  },
  "cells": [
    {
      "cell_type": "markdown",
      "metadata": {
        "id": "view-in-github",
        "colab_type": "text"
      },
      "source": [
        "<a href=\"https://colab.research.google.com/github/reis-47/Exercicios_ComputacaoGrafico/blob/main/Exercicios3_0224.ipynb\" target=\"_parent\"><img src=\"https://colab.research.google.com/assets/colab-badge.svg\" alt=\"Open In Colab\"/></a>"
      ]
    },
    {
      "cell_type": "code",
      "execution_count": 97,
      "metadata": {
        "colab": {
          "base_uri": "https://localhost:8080/"
        },
        "id": "MZpaPAVtVafn",
        "outputId": "62204e0b-d7b0-4783-96f9-d305ab07bcdc"
      },
      "outputs": [
        {
          "output_type": "stream",
          "name": "stdout",
          "text": [
            "[[1 3 2]\n",
            " [4 7 6]]\n",
            "[[2 8]\n",
            " [3 1]\n",
            " [5 9]]\n",
            "As matrizes podem ser multiplicadas.\n",
            "[[21. 29.]\n",
            " [59. 93.]]\n"
          ]
        }
      ],
      "source": [
        "import matplotlib.pyplot as plt\n",
        "import numpy as np\n",
        "import math\n",
        "\n",
        "#variaveis\n",
        "matriz_a = np.array([[1, 3, 2], [4, 7, 6],])\n",
        "print(matriz_a)\n",
        "\n",
        "matriz_b= np.array([[2, 8], [3, 1], [5, 9]])\n",
        "print(matriz_b)\n",
        "\n",
        "numero_linha = 0\n",
        "numero_coluna = 0\n",
        "\n",
        "#if matriz_a.shape[0] == matriz_b.shape[1]:\n",
        "#    print(\"As matrizes podem ser multiplicadas.\")\n",
        "#else:\n",
        "#    print(\"As matrizes não podem ser multiplicadas.\")\n",
        "\n",
        "matriz_a_linha, matriz_a_coluna = matriz_a.shape #na funcao np.shape: 0 vale o numero de linhas, 1 o numero de colunas\n",
        "matriz_b_linha, matriz_b_coluna = matriz_b.shape\n",
        "\n",
        "if matriz_a_coluna != matriz_b_linha:\n",
        "  print(\"As matrizes não podem ser multiplicadas.\")\n",
        "else:\n",
        "  print(\"As matrizes podem ser multiplicadas.\")\n",
        "  resultado = np.zeros((matriz_a_linha, matriz_b_coluna))\n",
        "\n",
        "  for numero_linha in range (matriz_a_linha):\n",
        "    for numero_coluna in range (matriz_b_coluna):\n",
        "      soma = 0\n",
        "      for k in range (matriz_a_coluna):\n",
        "        soma += matriz_a[numero_linha, k] * matriz_b[k, numero_coluna]\n",
        "      resultado[numero_linha, numero_coluna] = soma\n",
        "\n",
        "print(resultado)\n"
      ]
    },
    {
      "cell_type": "code",
      "source": [
        "import matplotlib.pyplot as plt\n",
        "import numpy as np\n",
        "import math\n",
        "\n",
        "#variaveis\n",
        "matriz_diagonal = np.array([[2, 0, 0], [0, 1, 0], [0, 0, 7]])\n",
        "print(matriz_diagonal)\n",
        "\n",
        "#conferir se eh diagonal\n",
        "matriz_diagonal_linha, matriz_diagonal_coluna = matriz_diagonal.shape\n",
        "\n",
        "if matriz_diagonal_linha != matriz_diagonal_coluna:\n",
        "  print(\"A matriz não eh quadrada, linhas e colunas iguais. \\n\")\n",
        "else:\n",
        "  print(\"A matriz eh quadrada, linhas e colunas iguais. \\n\")\n",
        "\n",
        "  i = matriz_diagonal_linha\n",
        "  j = matriz_diagonal_coluna\n",
        "\n",
        "  if i != j and matriz_diagonal_linha[i][j] != 0:\n",
        "    print(\"A matriz não eh diagonal. \\n\")\n",
        "  else:\n",
        "    print(\"A matriz eh diagonal. \\n\")"
      ],
      "metadata": {
        "colab": {
          "base_uri": "https://localhost:8080/"
        },
        "id": "UwKh8dMegTYu",
        "outputId": "fa636286-3e74-4a8d-bb77-e39a7a9f5f04"
      },
      "execution_count": 98,
      "outputs": [
        {
          "output_type": "stream",
          "name": "stdout",
          "text": [
            "[[2 0 0]\n",
            " [0 1 0]\n",
            " [0 0 7]]\n",
            "A matriz eh quadrada, linhas e colunas iguais. \n",
            "\n",
            "A matriz eh diagonal. \n",
            "\n"
          ]
        }
      ]
    },
    {
      "cell_type": "code",
      "source": [
        "import matplotlib.pyplot as plt\n",
        "import numpy as np\n",
        "import math\n",
        "\n",
        "#variaveis\n",
        "matriz_identidade = np.array([[1, 0, 0], [0, 1, 0], [0, 0, 1]]) #pra criar uma matriz 3X3 precisa usar colchetes duplos [[numeros], [numeros], [numeros]]\n",
        "print(matriz_identidade)\n",
        "\n",
        "#conferir se eh uma diagonal\n",
        "matriz_identidade_linha, matriz_identidade_coluna = matriz_identidade.shape\n",
        "\n",
        "if matriz_identidade_linha != matriz_identidade_coluna:\n",
        "  print(\"<n A matriz não eh quadrada, linhas e colunas iguais. \\n\")\n",
        "else:\n",
        "  print(\"A matriz eh quadrada, linhas e colunas iguais. \\n\")\n",
        "\n",
        "  #conferir se ela eh identidade\n",
        "  i_identidade = matriz_identidade_linha\n",
        "  j_identidade = matriz_identidade_coluna\n",
        "  k = 0\n",
        "  confirmar_identidade = 1\n",
        "\n",
        "  for i_identidade in range (matriz_identidade_linha):\n",
        "    for j_identidade in range (matriz_identidade_coluna):\n",
        "      for k in range (matriz_identidade_coluna):\n",
        "        if (i_identidade == k and matriz_identidade[i_identidade][k] != 1) or (i_identidade != k and matriz_identidade[i_identidade][k] != 0):\n",
        "          confirmar_identidade = 0\n",
        "\n",
        "  if confirmar_identidade == 1:\n",
        "    print(\"A matriz eh identidade. \\n\")\n",
        "  elif confirmar_identidade == 0:\n",
        "    print(\"A matriz não eh identidade. \\n\")"
      ],
      "metadata": {
        "colab": {
          "base_uri": "https://localhost:8080/"
        },
        "id": "NuLyIfO1kOEw",
        "outputId": "a7f0017f-ef0b-41f0-ef81-89ffc6683224"
      },
      "execution_count": 99,
      "outputs": [
        {
          "output_type": "stream",
          "name": "stdout",
          "text": [
            "[[1 0 0]\n",
            " [0 1 0]\n",
            " [0 0 1]]\n",
            "A matriz eh quadrada, linhas e colunas iguais. \n",
            "\n",
            "A matriz eh identidade. \n",
            "\n"
          ]
        }
      ]
    },
    {
      "cell_type": "code",
      "source": [
        "import matplotlib.pyplot as plt\n",
        "import numpy as np\n",
        "import math\n",
        "\n",
        "#variaveis\n",
        "matriz_transposta_original = np.array([[2, 3, 8], [6, 0, 4], [1, 5, 7]])\n",
        "matriz_transposta = np.array([[1, 0, 0], [0, 1, 0], [0, 0, 1]])\n",
        "print(matriz_transposta_original)\n",
        "\n",
        "matriz_transposta_original_linha, matriz_transposta_original_coluna = matriz_transposta_original.shape\n",
        "\n",
        "i_transposta = matriz_transposta_original_linha\n",
        "j_transposta = matriz_transposta_original_coluna\n",
        "\n",
        "for i_transposta in range (matriz_transposta_original_linha):\n",
        "  for j_transposta in range (matriz_transposta_original_coluna):\n",
        "    matriz_transposta[j_transposta][i_transposta] = matriz_transposta_original[i_transposta][j_transposta]\n",
        "\n",
        "print(matriz_transposta)"
      ],
      "metadata": {
        "id": "h0mmhn-TBVD-",
        "colab": {
          "base_uri": "https://localhost:8080/"
        },
        "outputId": "b3645109-7dfd-4dc6-9fa2-2bfd9624f498"
      },
      "execution_count": 100,
      "outputs": [
        {
          "output_type": "stream",
          "name": "stdout",
          "text": [
            "[[2 3 8]\n",
            " [6 0 4]\n",
            " [1 5 7]]\n",
            "[[2 6 1]\n",
            " [3 0 5]\n",
            " [8 4 7]]\n"
          ]
        }
      ]
    },
    {
      "cell_type": "code",
      "source": [
        "import matplotlib.pyplot as plt\n",
        "import numpy as np\n",
        "import math\n",
        "\n",
        "#variaveis\n",
        "matriz_escalar_original = np.array([[2, 3, 8], [6, 0, 4], [1, 5, 7]])\n",
        "matriz_escalar = np.array([[1, 0, 0], [0, 1, 0], [0, 0, 1]])\n",
        "print(matriz_escalar_original)\n",
        "\n",
        "escalar = 3\n",
        "\n",
        "matriz_escalar_original_linha, matriz_escalar_original_coluna = matriz_escalar_original.shape\n",
        "\n",
        "i_escalar = matriz_escalar_original_linha\n",
        "j_escalar = matriz_escalar_original_coluna\n",
        "\n",
        "for i_escalar in range (matriz_escalar_original_linha):\n",
        "  for j_escalar in range (matriz_escalar_original_coluna):\n",
        "    matriz_escalar[i_escalar][j_escalar] = matriz_escalar_original[i_escalar][j_escalar] * escalar\n",
        "\n",
        "print(matriz_escalar)"
      ],
      "metadata": {
        "colab": {
          "base_uri": "https://localhost:8080/"
        },
        "id": "4qrusX62OW9C",
        "outputId": "20827beb-3c57-48c3-ca5a-10bad5160fc8"
      },
      "execution_count": 102,
      "outputs": [
        {
          "output_type": "stream",
          "name": "stdout",
          "text": [
            "[[2 3 8]\n",
            " [6 0 4]\n",
            " [1 5 7]]\n",
            "[[ 6  9 24]\n",
            " [18  0 12]\n",
            " [ 3 15 21]]\n"
          ]
        }
      ]
    }
  ]
}